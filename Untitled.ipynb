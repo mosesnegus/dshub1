{
 "cells": [
  {
   "cell_type": "code",
   "execution_count": 1,
   "metadata": {},
   "outputs": [
    {
     "name": "stdout",
     "output_type": "stream",
     "text": [
      "\n",
      "\n",
      "Package plan for installation in environment /opt/conda:\n",
      "\n",
      "The following NEW packages will be INSTALLED:\n",
      "\n",
      "    pymongo: 3.6.1-py36_0 conda-forge\n",
      "\n"
     ]
    }
   ],
   "source": [
    "!conda install --yes --quiet pymongo"
   ]
  },
  {
   "cell_type": "code",
   "execution_count": 2,
   "metadata": {},
   "outputs": [],
   "source": [
    "from pymongo import MongoClient"
   ]
  },
  {
   "cell_type": "code",
   "execution_count": 3,
   "metadata": {},
   "outputs": [],
   "source": [
    "client = MongoClient('18.236.138.158', 27016)"
   ]
  },
  {
   "cell_type": "code",
   "execution_count": 4,
   "metadata": {},
   "outputs": [
    {
     "data": {
      "text/plain": [
       "['admin', 'config', 'local', 'twitter']"
      ]
     },
     "execution_count": 4,
     "metadata": {},
     "output_type": "execute_result"
    }
   ],
   "source": [
    "client.database_names()"
   ]
  },
  {
   "cell_type": "code",
   "execution_count": 5,
   "metadata": {},
   "outputs": [
    {
     "data": {
      "text/plain": [
       "Database(MongoClient(host=['18.236.138.158:27016'], document_class=dict, tz_aware=False, connect=True), 'twitter')"
      ]
     },
     "execution_count": 5,
     "metadata": {},
     "output_type": "execute_result"
    }
   ],
   "source": [
    "client.twitter"
   ]
  },
  {
   "cell_type": "code",
   "execution_count": 6,
   "metadata": {},
   "outputs": [],
   "source": [
    "fb = client.foobar"
   ]
  },
  {
   "cell_type": "code",
   "execution_count": 7,
   "metadata": {},
   "outputs": [
    {
     "data": {
      "text/plain": [
       "Database(MongoClient(host=['18.236.138.158:27016'], document_class=dict, tz_aware=False, connect=True), 'foobar')"
      ]
     },
     "execution_count": 7,
     "metadata": {},
     "output_type": "execute_result"
    }
   ],
   "source": [
    "fb"
   ]
  },
  {
   "cell_type": "code",
   "execution_count": 9,
   "metadata": {},
   "outputs": [
    {
     "data": {
      "text/plain": [
       "Collection(Database(MongoClient(host=['18.236.138.158:27016'], document_class=dict, tz_aware=False, connect=True), 'foobar'), 'bang')"
      ]
     },
     "execution_count": 9,
     "metadata": {},
     "output_type": "execute_result"
    }
   ],
   "source": [
    "bg = fb.bang\n",
    "bg"
   ]
  },
  {
   "cell_type": "code",
   "execution_count": 13,
   "metadata": {},
   "outputs": [
    {
     "data": {
      "text/plain": [
       "['bang']"
      ]
     },
     "execution_count": 13,
     "metadata": {},
     "output_type": "execute_result"
    }
   ],
   "source": [
    "fb.collection_names()"
   ]
  },
  {
   "cell_type": "code",
   "execution_count": 11,
   "metadata": {},
   "outputs": [
    {
     "data": {
      "text/plain": [
       "<pymongo.results.InsertOneResult at 0x7f38a8e5bd08>"
      ]
     },
     "execution_count": 11,
     "metadata": {},
     "output_type": "execute_result"
    }
   ],
   "source": [
    "bg.insert_one({'key':'hello'})"
   ]
  },
  {
   "cell_type": "code",
   "execution_count": 14,
   "metadata": {},
   "outputs": [
    {
     "data": {
      "text/plain": [
       "[{'_id': ObjectId('5af4fb74de4fb200312dfb55'), 'key': 'hello'},\n",
       " {'_id': ObjectId('5af4fb797a687d00200e215a'), 'key': 'hello'},\n",
       " {'_id': ObjectId('5af4fb79863f3b018cf72234'), 'key': 'hello'},\n",
       " {'_id': ObjectId('5af4fb7a57503a01227c6c13'), 'key': 'hello'},\n",
       " {'_id': ObjectId('5af4fb7b8c304f00e9e8c5da'), 'key': 'hello'},\n",
       " {'_id': ObjectId('5af4fb7eaedac000b72f06dc'), 'key': 'hello'},\n",
       " {'_id': ObjectId('5af4fb810017a000bcc7f41e'), 'key': 'hello'},\n",
       " {'_id': ObjectId('5af4fb8136db76008b1d6744'), 'key': 'hello'},\n",
       " {'_id': ObjectId('5af4fb815807e5011be017bb'), 'key': 'hello'},\n",
       " {'_id': ObjectId('5af4fb8219c01500fcef90b8'), 'key': 'hello'},\n",
       " {'_id': ObjectId('5af4fb82f533a80084cfc78d'), 'key': 'hello'},\n",
       " {'_id': ObjectId('5af4fb873ab8630190515ef5'), 'key': 'hello'},\n",
       " {'_id': ObjectId('5af4fb8c9fea5000b7966ad8'), 'key': 'hello'},\n",
       " {'_id': ObjectId('5af4fba7dc6b0206d589c4b0'), 'key': 'hello'}]"
      ]
     },
     "execution_count": 14,
     "metadata": {},
     "output_type": "execute_result"
    }
   ],
   "source": [
    "list(bg.find())"
   ]
  },
  {
   "cell_type": "code",
   "execution_count": 15,
   "metadata": {},
   "outputs": [],
   "source": [
    "bg.drop()"
   ]
  },
  {
   "cell_type": "code",
   "execution_count": null,
   "metadata": {},
   "outputs": [],
   "source": [
    "list()"
   ]
  },
  {
   "cell_type": "code",
   "execution_count": 18,
   "metadata": {},
   "outputs": [],
   "source": [
    "tweet = client.twitter.tweets.find_one()"
   ]
  },
  {
   "cell_type": "code",
   "execution_count": 20,
   "metadata": {},
   "outputs": [
    {
     "data": {
      "text/plain": [
       "'Putangina ang boring na ng buhay ko dito jusko'"
      ]
     },
     "execution_count": 20,
     "metadata": {},
     "output_type": "execute_result"
    }
   ],
   "source": [
    "tweet['text']"
   ]
  },
  {
   "cell_type": "code",
   "execution_count": null,
   "metadata": {},
   "outputs": [],
   "source": []
  }
 ],
 "metadata": {
  "kernelspec": {
   "display_name": "Python 3",
   "language": "python",
   "name": "python3"
  },
  "language_info": {
   "codemirror_mode": {
    "name": "ipython",
    "version": 3
   },
   "file_extension": ".py",
   "mimetype": "text/x-python",
   "name": "python",
   "nbconvert_exporter": "python",
   "pygments_lexer": "ipython3",
   "version": "3.6.4"
  }
 },
 "nbformat": 4,
 "nbformat_minor": 2
}
